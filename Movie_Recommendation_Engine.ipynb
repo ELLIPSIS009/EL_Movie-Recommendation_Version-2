{
  "nbformat": 4,
  "nbformat_minor": 0,
  "metadata": {
    "colab": {
      "name": "Movie_Recommendation_Engine.ipynb",
      "provenance": [],
      "collapsed_sections": []
    },
    "kernelspec": {
      "name": "python3",
      "display_name": "Python 3"
    },
    "accelerator": "GPU"
  },
  "cells": [
    {
      "cell_type": "markdown",
      "metadata": {
        "id": "d0YE7Xb4gbS0"
      },
      "source": [
        "<center><b><u><h1>Movie Recommendation Engine<br>Data Cleaning</h1></u></b></center>"
      ]
    },
    {
      "cell_type": "code",
      "metadata": {
        "id": "zy4own4K1bOk"
      },
      "source": [
        "# Importing librarires\n",
        "import pandas as pd\n",
        "import numpy as np\n",
        "from sklearn.metrics.pairwise import cosine_similarity\n",
        "from sklearn.feature_extraction.text import CountVectorizer"
      ],
      "execution_count": 1,
      "outputs": []
    },
    {
      "cell_type": "code",
      "metadata": {
        "colab": {
          "resources": {
            "http://localhost:8080/nbextensions/google.colab/files.js": {
              "data": "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",
              "ok": true,
              "headers": [
                [
                  "content-type",
                  "application/javascript"
                ]
              ],
              "status": 200,
              "status_text": ""
            }
          },
          "base_uri": "https://localhost:8080/",
          "height": 73
        },
        "id": "6Mx2MUWs2J3S",
        "outputId": "5bc48ec3-7678-48ff-ba80-6b36feab42bf"
      },
      "source": [
        "# Load the data\n",
        "from google.colab import files\n",
        "uploaded = files.upload()"
      ],
      "execution_count": 2,
      "outputs": [
        {
          "output_type": "display_data",
          "data": {
            "text/html": [
              "\n",
              "     <input type=\"file\" id=\"files-14ede4d8-f358-46df-9b49-e1d51045c7be\" name=\"files[]\" multiple disabled\n",
              "        style=\"border:none\" />\n",
              "     <output id=\"result-14ede4d8-f358-46df-9b49-e1d51045c7be\">\n",
              "      Upload widget is only available when the cell has been executed in the\n",
              "      current browser session. Please rerun this cell to enable.\n",
              "      </output>\n",
              "      <script src=\"/nbextensions/google.colab/files.js\"></script> "
            ],
            "text/plain": [
              "<IPython.core.display.HTML object>"
            ]
          },
          "metadata": {}
        },
        {
          "output_type": "stream",
          "name": "stdout",
          "text": [
            "Saving IMDb-Movie.csv to IMDb-Movie.csv\n"
          ]
        }
      ]
    },
    {
      "cell_type": "code",
      "metadata": {
        "colab": {
          "base_uri": "https://localhost:8080/",
          "height": 338
        },
        "id": "J_97ilUy4pJn",
        "outputId": "6f770ae4-857c-4dbf-ae1e-8f00df65730b"
      },
      "source": [
        "# Storing the data\n",
        "df = pd.read_csv('/content/IMDb-Movie.csv', encoding='latin1')\n",
        "df.head()"
      ],
      "execution_count": 3,
      "outputs": [
        {
          "output_type": "stream",
          "name": "stderr",
          "text": [
            "/usr/local/lib/python3.7/dist-packages/IPython/core/interactiveshell.py:2718: DtypeWarning: Columns (6) have mixed types.Specify dtype option on import or set low_memory=False.\n",
            "  interactivity=interactivity, compiler=compiler, result=result)\n"
          ]
        },
        {
          "output_type": "execute_result",
          "data": {
            "text/html": [
              "<div>\n",
              "<style scoped>\n",
              "    .dataframe tbody tr th:only-of-type {\n",
              "        vertical-align: middle;\n",
              "    }\n",
              "\n",
              "    .dataframe tbody tr th {\n",
              "        vertical-align: top;\n",
              "    }\n",
              "\n",
              "    .dataframe thead th {\n",
              "        text-align: right;\n",
              "    }\n",
              "</style>\n",
              "<table border=\"1\" class=\"dataframe\">\n",
              "  <thead>\n",
              "    <tr style=\"text-align: right;\">\n",
              "      <th></th>\n",
              "      <th>Rank</th>\n",
              "      <th>Title</th>\n",
              "      <th>Genre</th>\n",
              "      <th>Description</th>\n",
              "      <th>Director</th>\n",
              "      <th>Actors</th>\n",
              "      <th>Year</th>\n",
              "      <th>Runtime (Minutes)</th>\n",
              "      <th>Rating</th>\n",
              "      <th>Votes</th>\n",
              "      <th>language</th>\n",
              "    </tr>\n",
              "  </thead>\n",
              "  <tbody>\n",
              "    <tr>\n",
              "      <th>0</th>\n",
              "      <td>1</td>\n",
              "      <td>Miss Jerry</td>\n",
              "      <td>Romance</td>\n",
              "      <td>The adventures of a female reporter in the 1890s.</td>\n",
              "      <td>Alexander Black</td>\n",
              "      <td>Blanche Bayliss, William Courtenay, Chauncey D...</td>\n",
              "      <td>1894</td>\n",
              "      <td>45</td>\n",
              "      <td>5.9</td>\n",
              "      <td>154</td>\n",
              "      <td>None</td>\n",
              "    </tr>\n",
              "    <tr>\n",
              "      <th>1</th>\n",
              "      <td>2</td>\n",
              "      <td>The Story of the Kelly Gang</td>\n",
              "      <td>Biography, Crime, Drama</td>\n",
              "      <td>True story of notorious Australian outlaw Ned ...</td>\n",
              "      <td>Charles Tait</td>\n",
              "      <td>Elizabeth Tait, John Tait, Norman Campbell, Be...</td>\n",
              "      <td>1906</td>\n",
              "      <td>70</td>\n",
              "      <td>6.1</td>\n",
              "      <td>589</td>\n",
              "      <td>None</td>\n",
              "    </tr>\n",
              "    <tr>\n",
              "      <th>2</th>\n",
              "      <td>3</td>\n",
              "      <td>Den sorte drÃ¸</td>\n",
              "      <td>Drama</td>\n",
              "      <td>Two men of high rank are both wooing the beaut...</td>\n",
              "      <td>Urban Gad</td>\n",
              "      <td>Asta Nielsen, Valdemar Psilander, Gunnar Helse...</td>\n",
              "      <td>1911</td>\n",
              "      <td>53</td>\n",
              "      <td>5.8</td>\n",
              "      <td>188</td>\n",
              "      <td>NaN</td>\n",
              "    </tr>\n",
              "    <tr>\n",
              "      <th>3</th>\n",
              "      <td>4</td>\n",
              "      <td>Cleopatra</td>\n",
              "      <td>Drama, History</td>\n",
              "      <td>The fabled queen of Egypt's affair with Roman ...</td>\n",
              "      <td>Charles L. Gaskill</td>\n",
              "      <td>Helen Gardner, Pearl Sindelar, Miss Fielding, ...</td>\n",
              "      <td>1912</td>\n",
              "      <td>100</td>\n",
              "      <td>5.2</td>\n",
              "      <td>446</td>\n",
              "      <td>English</td>\n",
              "    </tr>\n",
              "    <tr>\n",
              "      <th>4</th>\n",
              "      <td>5</td>\n",
              "      <td>L'Inferno</td>\n",
              "      <td>Adventure, Drama, Fantasy</td>\n",
              "      <td>Loosely adapted from Dante's Divine Comedy and...</td>\n",
              "      <td>Francesco Bertolini, Adolfo Padovan</td>\n",
              "      <td>Salvatore Papa, Arturo Pirovano, Giuseppe de L...</td>\n",
              "      <td>1911</td>\n",
              "      <td>68</td>\n",
              "      <td>7.0</td>\n",
              "      <td>2237</td>\n",
              "      <td>Italian</td>\n",
              "    </tr>\n",
              "  </tbody>\n",
              "</table>\n",
              "</div>"
            ],
            "text/plain": [
              "   Rank                        Title  ... Votes language\n",
              "0     1                   Miss Jerry  ...   154     None\n",
              "1     2  The Story of the Kelly Gang  ...   589     None\n",
              "2     3               Den sorte drÃ¸  ...   188      NaN\n",
              "3     4                    Cleopatra  ...   446  English\n",
              "4     5                    L'Inferno  ...  2237  Italian\n",
              "\n",
              "[5 rows x 11 columns]"
            ]
          },
          "metadata": {},
          "execution_count": 3
        }
      ]
    },
    {
      "cell_type": "code",
      "metadata": {
        "colab": {
          "base_uri": "https://localhost:8080/"
        },
        "id": "OKgPC-0pafYA",
        "outputId": "a8fcbc26-ac10-40d1-9a1b-7ec73dcd061a"
      },
      "source": [
        "# checking shape of the dataset\n",
        "df.shape"
      ],
      "execution_count": 4,
      "outputs": [
        {
          "output_type": "execute_result",
          "data": {
            "text/plain": [
              "(85855, 11)"
            ]
          },
          "metadata": {},
          "execution_count": 4
        }
      ]
    },
    {
      "cell_type": "code",
      "metadata": {
        "colab": {
          "base_uri": "https://localhost:8080/",
          "height": 417
        },
        "id": "jxjrq4mKi1W5",
        "outputId": "925e5d70-094d-4e03-c3dd-6e709bae0a1f"
      },
      "source": [
        "# checking for null or nan values\n",
        "df.isna()"
      ],
      "execution_count": 5,
      "outputs": [
        {
          "output_type": "execute_result",
          "data": {
            "text/html": [
              "<div>\n",
              "<style scoped>\n",
              "    .dataframe tbody tr th:only-of-type {\n",
              "        vertical-align: middle;\n",
              "    }\n",
              "\n",
              "    .dataframe tbody tr th {\n",
              "        vertical-align: top;\n",
              "    }\n",
              "\n",
              "    .dataframe thead th {\n",
              "        text-align: right;\n",
              "    }\n",
              "</style>\n",
              "<table border=\"1\" class=\"dataframe\">\n",
              "  <thead>\n",
              "    <tr style=\"text-align: right;\">\n",
              "      <th></th>\n",
              "      <th>Rank</th>\n",
              "      <th>Title</th>\n",
              "      <th>Genre</th>\n",
              "      <th>Description</th>\n",
              "      <th>Director</th>\n",
              "      <th>Actors</th>\n",
              "      <th>Year</th>\n",
              "      <th>Runtime (Minutes)</th>\n",
              "      <th>Rating</th>\n",
              "      <th>Votes</th>\n",
              "      <th>language</th>\n",
              "    </tr>\n",
              "  </thead>\n",
              "  <tbody>\n",
              "    <tr>\n",
              "      <th>0</th>\n",
              "      <td>False</td>\n",
              "      <td>False</td>\n",
              "      <td>False</td>\n",
              "      <td>False</td>\n",
              "      <td>False</td>\n",
              "      <td>False</td>\n",
              "      <td>False</td>\n",
              "      <td>False</td>\n",
              "      <td>False</td>\n",
              "      <td>False</td>\n",
              "      <td>False</td>\n",
              "    </tr>\n",
              "    <tr>\n",
              "      <th>1</th>\n",
              "      <td>False</td>\n",
              "      <td>False</td>\n",
              "      <td>False</td>\n",
              "      <td>False</td>\n",
              "      <td>False</td>\n",
              "      <td>False</td>\n",
              "      <td>False</td>\n",
              "      <td>False</td>\n",
              "      <td>False</td>\n",
              "      <td>False</td>\n",
              "      <td>False</td>\n",
              "    </tr>\n",
              "    <tr>\n",
              "      <th>2</th>\n",
              "      <td>False</td>\n",
              "      <td>False</td>\n",
              "      <td>False</td>\n",
              "      <td>False</td>\n",
              "      <td>False</td>\n",
              "      <td>False</td>\n",
              "      <td>False</td>\n",
              "      <td>False</td>\n",
              "      <td>False</td>\n",
              "      <td>False</td>\n",
              "      <td>True</td>\n",
              "    </tr>\n",
              "    <tr>\n",
              "      <th>3</th>\n",
              "      <td>False</td>\n",
              "      <td>False</td>\n",
              "      <td>False</td>\n",
              "      <td>False</td>\n",
              "      <td>False</td>\n",
              "      <td>False</td>\n",
              "      <td>False</td>\n",
              "      <td>False</td>\n",
              "      <td>False</td>\n",
              "      <td>False</td>\n",
              "      <td>False</td>\n",
              "    </tr>\n",
              "    <tr>\n",
              "      <th>4</th>\n",
              "      <td>False</td>\n",
              "      <td>False</td>\n",
              "      <td>False</td>\n",
              "      <td>False</td>\n",
              "      <td>False</td>\n",
              "      <td>False</td>\n",
              "      <td>False</td>\n",
              "      <td>False</td>\n",
              "      <td>False</td>\n",
              "      <td>False</td>\n",
              "      <td>False</td>\n",
              "    </tr>\n",
              "    <tr>\n",
              "      <th>...</th>\n",
              "      <td>...</td>\n",
              "      <td>...</td>\n",
              "      <td>...</td>\n",
              "      <td>...</td>\n",
              "      <td>...</td>\n",
              "      <td>...</td>\n",
              "      <td>...</td>\n",
              "      <td>...</td>\n",
              "      <td>...</td>\n",
              "      <td>...</td>\n",
              "      <td>...</td>\n",
              "    </tr>\n",
              "    <tr>\n",
              "      <th>85850</th>\n",
              "      <td>False</td>\n",
              "      <td>False</td>\n",
              "      <td>False</td>\n",
              "      <td>False</td>\n",
              "      <td>False</td>\n",
              "      <td>False</td>\n",
              "      <td>False</td>\n",
              "      <td>False</td>\n",
              "      <td>False</td>\n",
              "      <td>False</td>\n",
              "      <td>False</td>\n",
              "    </tr>\n",
              "    <tr>\n",
              "      <th>85851</th>\n",
              "      <td>False</td>\n",
              "      <td>False</td>\n",
              "      <td>False</td>\n",
              "      <td>False</td>\n",
              "      <td>False</td>\n",
              "      <td>False</td>\n",
              "      <td>False</td>\n",
              "      <td>False</td>\n",
              "      <td>False</td>\n",
              "      <td>False</td>\n",
              "      <td>False</td>\n",
              "    </tr>\n",
              "    <tr>\n",
              "      <th>85852</th>\n",
              "      <td>False</td>\n",
              "      <td>False</td>\n",
              "      <td>False</td>\n",
              "      <td>True</td>\n",
              "      <td>False</td>\n",
              "      <td>False</td>\n",
              "      <td>False</td>\n",
              "      <td>False</td>\n",
              "      <td>False</td>\n",
              "      <td>False</td>\n",
              "      <td>False</td>\n",
              "    </tr>\n",
              "    <tr>\n",
              "      <th>85853</th>\n",
              "      <td>False</td>\n",
              "      <td>False</td>\n",
              "      <td>False</td>\n",
              "      <td>True</td>\n",
              "      <td>False</td>\n",
              "      <td>False</td>\n",
              "      <td>False</td>\n",
              "      <td>False</td>\n",
              "      <td>False</td>\n",
              "      <td>False</td>\n",
              "      <td>False</td>\n",
              "    </tr>\n",
              "    <tr>\n",
              "      <th>85854</th>\n",
              "      <td>False</td>\n",
              "      <td>False</td>\n",
              "      <td>False</td>\n",
              "      <td>False</td>\n",
              "      <td>False</td>\n",
              "      <td>False</td>\n",
              "      <td>False</td>\n",
              "      <td>False</td>\n",
              "      <td>False</td>\n",
              "      <td>False</td>\n",
              "      <td>False</td>\n",
              "    </tr>\n",
              "  </tbody>\n",
              "</table>\n",
              "<p>85855 rows × 11 columns</p>\n",
              "</div>"
            ],
            "text/plain": [
              "        Rank  Title  Genre  ...  Rating  Votes  language\n",
              "0      False  False  False  ...   False  False     False\n",
              "1      False  False  False  ...   False  False     False\n",
              "2      False  False  False  ...   False  False      True\n",
              "3      False  False  False  ...   False  False     False\n",
              "4      False  False  False  ...   False  False     False\n",
              "...      ...    ...    ...  ...     ...    ...       ...\n",
              "85850  False  False  False  ...   False  False     False\n",
              "85851  False  False  False  ...   False  False     False\n",
              "85852  False  False  False  ...   False  False     False\n",
              "85853  False  False  False  ...   False  False     False\n",
              "85854  False  False  False  ...   False  False     False\n",
              "\n",
              "[85855 rows x 11 columns]"
            ]
          },
          "metadata": {},
          "execution_count": 5
        }
      ]
    },
    {
      "cell_type": "code",
      "metadata": {
        "colab": {
          "base_uri": "https://localhost:8080/"
        },
        "id": "FaKv8BQ2jVx5",
        "outputId": "09701987-eb93-4f19-e717-7ee54abf6772"
      },
      "source": [
        "# counting number of null or nan values in each column\n",
        "df.isna().sum()"
      ],
      "execution_count": 6,
      "outputs": [
        {
          "output_type": "execute_result",
          "data": {
            "text/plain": [
              "Rank                    0\n",
              "Title                   0\n",
              "Genre                   0\n",
              "Description          2115\n",
              "Director               87\n",
              "Actors                 69\n",
              "Year                    0\n",
              "Runtime (Minutes)       0\n",
              "Rating                  0\n",
              "Votes                   0\n",
              "language              833\n",
              "dtype: int64"
            ]
          },
          "metadata": {},
          "execution_count": 6
        }
      ]
    },
    {
      "cell_type": "code",
      "metadata": {
        "id": "Zzb-ecTCJA84"
      },
      "source": [
        "# removing all rows which consists of null or nan values\n",
        "df = df.dropna()"
      ],
      "execution_count": 7,
      "outputs": []
    },
    {
      "cell_type": "code",
      "metadata": {
        "colab": {
          "base_uri": "https://localhost:8080/"
        },
        "id": "kgytB9_IJKDU",
        "outputId": "54ff2914-2d54-41cf-e60f-524bcbbc35c7"
      },
      "source": [
        "# counting number of null or nan values in each column\n",
        "df.isna().sum()"
      ],
      "execution_count": 8,
      "outputs": [
        {
          "output_type": "execute_result",
          "data": {
            "text/plain": [
              "Rank                 0\n",
              "Title                0\n",
              "Genre                0\n",
              "Description          0\n",
              "Director             0\n",
              "Actors               0\n",
              "Year                 0\n",
              "Runtime (Minutes)    0\n",
              "Rating               0\n",
              "Votes                0\n",
              "language             0\n",
              "dtype: int64"
            ]
          },
          "metadata": {},
          "execution_count": 8
        }
      ]
    },
    {
      "cell_type": "code",
      "metadata": {
        "colab": {
          "base_uri": "https://localhost:8080/"
        },
        "id": "JiXRywvYjguo",
        "outputId": "c09a05cb-9ec3-4fbd-9dfa-5b4d48b7b629"
      },
      "source": [
        "# checking for the number of duplicate valies in entire dataset\n",
        "df.duplicated().sum()"
      ],
      "execution_count": 9,
      "outputs": [
        {
          "output_type": "execute_result",
          "data": {
            "text/plain": [
              "0"
            ]
          },
          "metadata": {},
          "execution_count": 9
        }
      ]
    },
    {
      "cell_type": "code",
      "metadata": {
        "colab": {
          "base_uri": "https://localhost:8080/"
        },
        "id": "zjZAN_6AIRxm",
        "outputId": "18e3d6aa-eb68-4aac-b20b-cbb79208f288"
      },
      "source": [
        "# checking shape of the dataset\n",
        "df.shape"
      ],
      "execution_count": 10,
      "outputs": [
        {
          "output_type": "execute_result",
          "data": {
            "text/plain": [
              "(82806, 11)"
            ]
          },
          "metadata": {},
          "execution_count": 10
        }
      ]
    },
    {
      "cell_type": "code",
      "metadata": {
        "id": "XrNJl0acGSEs"
      },
      "source": [
        "# creating a new column to index all the movies\n",
        "df['Movie_id'] = range(0,df.shape[0])"
      ],
      "execution_count": 11,
      "outputs": []
    },
    {
      "cell_type": "code",
      "metadata": {
        "colab": {
          "base_uri": "https://localhost:8080/"
        },
        "id": "KOVP0YLg4_gE",
        "outputId": "8be945cb-9440-4c25-cfdb-7ced2e3f5153"
      },
      "source": [
        "# checking shape of the dataset\n",
        "df.shape"
      ],
      "execution_count": 12,
      "outputs": [
        {
          "output_type": "execute_result",
          "data": {
            "text/plain": [
              "(82806, 12)"
            ]
          },
          "metadata": {},
          "execution_count": 12
        }
      ]
    },
    {
      "cell_type": "code",
      "metadata": {
        "colab": {
          "base_uri": "https://localhost:8080/",
          "height": 142
        },
        "id": "FBBJm5Z05lS3",
        "outputId": "1ccfee06-5fd1-4547-880a-fb78cf0f060e"
      },
      "source": [
        "# viewing all important features column of the recomendation engine\n",
        "columns = ['Actors', 'Director', 'Genre', 'Title', 'Rating']\n",
        "df[columns].head(3)"
      ],
      "execution_count": 13,
      "outputs": [
        {
          "output_type": "execute_result",
          "data": {
            "text/html": [
              "<div>\n",
              "<style scoped>\n",
              "    .dataframe tbody tr th:only-of-type {\n",
              "        vertical-align: middle;\n",
              "    }\n",
              "\n",
              "    .dataframe tbody tr th {\n",
              "        vertical-align: top;\n",
              "    }\n",
              "\n",
              "    .dataframe thead th {\n",
              "        text-align: right;\n",
              "    }\n",
              "</style>\n",
              "<table border=\"1\" class=\"dataframe\">\n",
              "  <thead>\n",
              "    <tr style=\"text-align: right;\">\n",
              "      <th></th>\n",
              "      <th>Actors</th>\n",
              "      <th>Director</th>\n",
              "      <th>Genre</th>\n",
              "      <th>Title</th>\n",
              "      <th>Rating</th>\n",
              "    </tr>\n",
              "  </thead>\n",
              "  <tbody>\n",
              "    <tr>\n",
              "      <th>0</th>\n",
              "      <td>Blanche Bayliss, William Courtenay, Chauncey D...</td>\n",
              "      <td>Alexander Black</td>\n",
              "      <td>Romance</td>\n",
              "      <td>Miss Jerry</td>\n",
              "      <td>5.9</td>\n",
              "    </tr>\n",
              "    <tr>\n",
              "      <th>1</th>\n",
              "      <td>Elizabeth Tait, John Tait, Norman Campbell, Be...</td>\n",
              "      <td>Charles Tait</td>\n",
              "      <td>Biography, Crime, Drama</td>\n",
              "      <td>The Story of the Kelly Gang</td>\n",
              "      <td>6.1</td>\n",
              "    </tr>\n",
              "    <tr>\n",
              "      <th>3</th>\n",
              "      <td>Helen Gardner, Pearl Sindelar, Miss Fielding, ...</td>\n",
              "      <td>Charles L. Gaskill</td>\n",
              "      <td>Drama, History</td>\n",
              "      <td>Cleopatra</td>\n",
              "      <td>5.2</td>\n",
              "    </tr>\n",
              "  </tbody>\n",
              "</table>\n",
              "</div>"
            ],
            "text/plain": [
              "                                              Actors  ... Rating\n",
              "0  Blanche Bayliss, William Courtenay, Chauncey D...  ...    5.9\n",
              "1  Elizabeth Tait, John Tait, Norman Campbell, Be...  ...    6.1\n",
              "3  Helen Gardner, Pearl Sindelar, Miss Fielding, ...  ...    5.2\n",
              "\n",
              "[3 rows x 5 columns]"
            ]
          },
          "metadata": {},
          "execution_count": 13
        }
      ]
    },
    {
      "cell_type": "code",
      "metadata": {
        "colab": {
          "base_uri": "https://localhost:8080/",
          "height": 304
        },
        "id": "RRlEJGLRJrPb",
        "outputId": "ee71bd9b-7e60-4149-e9a2-fbb8fc851249"
      },
      "source": [
        "# viewing the cleaned data\n",
        "df.head()"
      ],
      "execution_count": 14,
      "outputs": [
        {
          "output_type": "execute_result",
          "data": {
            "text/html": [
              "<div>\n",
              "<style scoped>\n",
              "    .dataframe tbody tr th:only-of-type {\n",
              "        vertical-align: middle;\n",
              "    }\n",
              "\n",
              "    .dataframe tbody tr th {\n",
              "        vertical-align: top;\n",
              "    }\n",
              "\n",
              "    .dataframe thead th {\n",
              "        text-align: right;\n",
              "    }\n",
              "</style>\n",
              "<table border=\"1\" class=\"dataframe\">\n",
              "  <thead>\n",
              "    <tr style=\"text-align: right;\">\n",
              "      <th></th>\n",
              "      <th>Rank</th>\n",
              "      <th>Title</th>\n",
              "      <th>Genre</th>\n",
              "      <th>Description</th>\n",
              "      <th>Director</th>\n",
              "      <th>Actors</th>\n",
              "      <th>Year</th>\n",
              "      <th>Runtime (Minutes)</th>\n",
              "      <th>Rating</th>\n",
              "      <th>Votes</th>\n",
              "      <th>language</th>\n",
              "      <th>Movie_id</th>\n",
              "    </tr>\n",
              "  </thead>\n",
              "  <tbody>\n",
              "    <tr>\n",
              "      <th>0</th>\n",
              "      <td>1</td>\n",
              "      <td>Miss Jerry</td>\n",
              "      <td>Romance</td>\n",
              "      <td>The adventures of a female reporter in the 1890s.</td>\n",
              "      <td>Alexander Black</td>\n",
              "      <td>Blanche Bayliss, William Courtenay, Chauncey D...</td>\n",
              "      <td>1894</td>\n",
              "      <td>45</td>\n",
              "      <td>5.9</td>\n",
              "      <td>154</td>\n",
              "      <td>None</td>\n",
              "      <td>0</td>\n",
              "    </tr>\n",
              "    <tr>\n",
              "      <th>1</th>\n",
              "      <td>2</td>\n",
              "      <td>The Story of the Kelly Gang</td>\n",
              "      <td>Biography, Crime, Drama</td>\n",
              "      <td>True story of notorious Australian outlaw Ned ...</td>\n",
              "      <td>Charles Tait</td>\n",
              "      <td>Elizabeth Tait, John Tait, Norman Campbell, Be...</td>\n",
              "      <td>1906</td>\n",
              "      <td>70</td>\n",
              "      <td>6.1</td>\n",
              "      <td>589</td>\n",
              "      <td>None</td>\n",
              "      <td>1</td>\n",
              "    </tr>\n",
              "    <tr>\n",
              "      <th>3</th>\n",
              "      <td>4</td>\n",
              "      <td>Cleopatra</td>\n",
              "      <td>Drama, History</td>\n",
              "      <td>The fabled queen of Egypt's affair with Roman ...</td>\n",
              "      <td>Charles L. Gaskill</td>\n",
              "      <td>Helen Gardner, Pearl Sindelar, Miss Fielding, ...</td>\n",
              "      <td>1912</td>\n",
              "      <td>100</td>\n",
              "      <td>5.2</td>\n",
              "      <td>446</td>\n",
              "      <td>English</td>\n",
              "      <td>2</td>\n",
              "    </tr>\n",
              "    <tr>\n",
              "      <th>4</th>\n",
              "      <td>5</td>\n",
              "      <td>L'Inferno</td>\n",
              "      <td>Adventure, Drama, Fantasy</td>\n",
              "      <td>Loosely adapted from Dante's Divine Comedy and...</td>\n",
              "      <td>Francesco Bertolini, Adolfo Padovan</td>\n",
              "      <td>Salvatore Papa, Arturo Pirovano, Giuseppe de L...</td>\n",
              "      <td>1911</td>\n",
              "      <td>68</td>\n",
              "      <td>7.0</td>\n",
              "      <td>2237</td>\n",
              "      <td>Italian</td>\n",
              "      <td>3</td>\n",
              "    </tr>\n",
              "    <tr>\n",
              "      <th>5</th>\n",
              "      <td>6</td>\n",
              "      <td>From the Manger to the Cross; or, Jesus of Naz...</td>\n",
              "      <td>Biography, Drama</td>\n",
              "      <td>An account of the life of Jesus Christ, based ...</td>\n",
              "      <td>Sidney Olcott</td>\n",
              "      <td>R. Henderson Bland, Percy Dyer, Gene Gauntier,...</td>\n",
              "      <td>1912</td>\n",
              "      <td>60</td>\n",
              "      <td>5.7</td>\n",
              "      <td>484</td>\n",
              "      <td>English</td>\n",
              "      <td>4</td>\n",
              "    </tr>\n",
              "  </tbody>\n",
              "</table>\n",
              "</div>"
            ],
            "text/plain": [
              "   Rank                                              Title  ... language Movie_id\n",
              "0     1                                         Miss Jerry  ...     None        0\n",
              "1     2                        The Story of the Kelly Gang  ...     None        1\n",
              "3     4                                          Cleopatra  ...  English        2\n",
              "4     5                                          L'Inferno  ...  Italian        3\n",
              "5     6  From the Manger to the Cross; or, Jesus of Naz...  ...  English        4\n",
              "\n",
              "[5 rows x 12 columns]"
            ]
          },
          "metadata": {},
          "execution_count": 14
        }
      ]
    },
    {
      "cell_type": "code",
      "metadata": {
        "id": "9rmN5htvKftn"
      },
      "source": [
        "# exporting the cleaned data\n",
        "df.to_csv('/content/Cleaned_Movie_data.csv', index = False)"
      ],
      "execution_count": 15,
      "outputs": []
    },
    {
      "cell_type": "markdown",
      "metadata": {
        "id": "rVveicgGl2d8"
      },
      "source": [
        "<center><b><u><h1><br>Movie Recommendation</h1></u></b></center>"
      ]
    },
    {
      "cell_type": "code",
      "metadata": {
        "id": "_As-Xr_tsfqd"
      },
      "source": [
        "# Adding new column to hold Movie_ID\n",
        "df['Movie_id'] = range(0,df.shape[0])"
      ],
      "execution_count": 42,
      "outputs": []
    },
    {
      "cell_type": "code",
      "metadata": {
        "id": "LLEFQp2q6RkO"
      },
      "source": [
        "# Functions to combine values of important columns into a single string\n",
        "def get_important_features(data):\n",
        "    important_features = []\n",
        "    for i in range(0, data.shape[0]):\n",
        "        important_features.append(data['Actors'][i] + ' ' + data['Director'][i] + ' ' + data['Genre'][i] + ' ' + data['Title'][i] + ' ' + str(data['Rating'][i]))\n",
        "    return important_features"
      ],
      "execution_count": 43,
      "outputs": []
    },
    {
      "cell_type": "code",
      "metadata": {
        "colab": {
          "base_uri": "https://localhost:8080/",
          "height": 293
        },
        "id": "CgPVjykT8diR",
        "outputId": "739cb450-2546-4e99-a2af-f6f4192ad272"
      },
      "source": [
        "# Create a column to hold the combined string\n",
        "df['important_features'] = get_important_features(df)\n",
        "# Show data\n",
        "df.head(3)"
      ],
      "execution_count": 44,
      "outputs": [
        {
          "output_type": "execute_result",
          "data": {
            "text/html": [
              "<div>\n",
              "<style scoped>\n",
              "    .dataframe tbody tr th:only-of-type {\n",
              "        vertical-align: middle;\n",
              "    }\n",
              "\n",
              "    .dataframe tbody tr th {\n",
              "        vertical-align: top;\n",
              "    }\n",
              "\n",
              "    .dataframe thead th {\n",
              "        text-align: right;\n",
              "    }\n",
              "</style>\n",
              "<table border=\"1\" class=\"dataframe\">\n",
              "  <thead>\n",
              "    <tr style=\"text-align: right;\">\n",
              "      <th></th>\n",
              "      <th>Rank</th>\n",
              "      <th>Title</th>\n",
              "      <th>Genre</th>\n",
              "      <th>Description</th>\n",
              "      <th>Director</th>\n",
              "      <th>Actors</th>\n",
              "      <th>Year</th>\n",
              "      <th>Runtime (Minutes)</th>\n",
              "      <th>Rating</th>\n",
              "      <th>Votes</th>\n",
              "      <th>Revenue (Millions)</th>\n",
              "      <th>Metascore</th>\n",
              "      <th>Movie_id</th>\n",
              "      <th>important_features</th>\n",
              "    </tr>\n",
              "  </thead>\n",
              "  <tbody>\n",
              "    <tr>\n",
              "      <th>0</th>\n",
              "      <td>1</td>\n",
              "      <td>Guardians of the Galaxy</td>\n",
              "      <td>Action,Adventure,Sci-Fi</td>\n",
              "      <td>A group of intergalactic criminals are forced ...</td>\n",
              "      <td>James Gunn</td>\n",
              "      <td>Chris Pratt, Vin Diesel, Bradley Cooper, Zoe S...</td>\n",
              "      <td>2014</td>\n",
              "      <td>121</td>\n",
              "      <td>8.1</td>\n",
              "      <td>757074</td>\n",
              "      <td>333.13</td>\n",
              "      <td>76.0</td>\n",
              "      <td>0</td>\n",
              "      <td>Chris Pratt, Vin Diesel, Bradley Cooper, Zoe S...</td>\n",
              "    </tr>\n",
              "    <tr>\n",
              "      <th>1</th>\n",
              "      <td>2</td>\n",
              "      <td>Prometheus</td>\n",
              "      <td>Adventure,Mystery,Sci-Fi</td>\n",
              "      <td>Following clues to the origin of mankind, a te...</td>\n",
              "      <td>Ridley Scott</td>\n",
              "      <td>Noomi Rapace, Logan Marshall-Green, Michael Fa...</td>\n",
              "      <td>2012</td>\n",
              "      <td>124</td>\n",
              "      <td>7.0</td>\n",
              "      <td>485820</td>\n",
              "      <td>126.46</td>\n",
              "      <td>65.0</td>\n",
              "      <td>1</td>\n",
              "      <td>Noomi Rapace, Logan Marshall-Green, Michael Fa...</td>\n",
              "    </tr>\n",
              "    <tr>\n",
              "      <th>2</th>\n",
              "      <td>3</td>\n",
              "      <td>Split</td>\n",
              "      <td>Horror,Thriller</td>\n",
              "      <td>Three girls are kidnapped by a man with a diag...</td>\n",
              "      <td>M. Night Shyamalan</td>\n",
              "      <td>James McAvoy, Anya Taylor-Joy, Haley Lu Richar...</td>\n",
              "      <td>2016</td>\n",
              "      <td>117</td>\n",
              "      <td>7.3</td>\n",
              "      <td>157606</td>\n",
              "      <td>138.12</td>\n",
              "      <td>62.0</td>\n",
              "      <td>2</td>\n",
              "      <td>James McAvoy, Anya Taylor-Joy, Haley Lu Richar...</td>\n",
              "    </tr>\n",
              "  </tbody>\n",
              "</table>\n",
              "</div>"
            ],
            "text/plain": [
              "   Rank  ...                                 important_features\n",
              "0     1  ...  Chris Pratt, Vin Diesel, Bradley Cooper, Zoe S...\n",
              "1     2  ...  Noomi Rapace, Logan Marshall-Green, Michael Fa...\n",
              "2     3  ...  James McAvoy, Anya Taylor-Joy, Haley Lu Richar...\n",
              "\n",
              "[3 rows x 14 columns]"
            ]
          },
          "metadata": {},
          "execution_count": 44
        }
      ]
    },
    {
      "cell_type": "code",
      "metadata": {
        "id": "IZZWDyZX96Lv"
      },
      "source": [
        "# Convert Text to Matrix of token counts\n",
        "# It is used to transform a given text into a vector on the basis of the frequency (count) of each word that occurs in the entire text.\n",
        "cm = CountVectorizer().fit_transform(df['important_features'])"
      ],
      "execution_count": 45,
      "outputs": []
    },
    {
      "cell_type": "code",
      "metadata": {
        "id": "zpu6H4GB-nuE",
        "colab": {
          "base_uri": "https://localhost:8080/"
        },
        "outputId": "67904691-a7d4-492f-a77a-3c41c2c95441"
      },
      "source": [
        "# Get the Cosine Similarity Martix from count Matrix\n",
        "# it measures the cosine angle between two vectors in a multi-dimensional space\n",
        "cs = cosine_similarity(cm)\n",
        "# Print Cosine Similarity matrix\n",
        "print(cs)"
      ],
      "execution_count": 46,
      "outputs": [
        {
          "output_type": "stream",
          "name": "stdout",
          "text": [
            "[[1.         0.1767767  0.06085806 ... 0.0571662  0.06537205 0.        ]\n",
            " [0.1767767  1.         0.         ... 0.         0.06933752 0.        ]\n",
            " [0.06085806 0.         1.         ... 0.         0.         0.        ]\n",
            " ...\n",
            " [0.0571662  0.         0.         ... 1.         0.06726728 0.        ]\n",
            " [0.06537205 0.06933752 0.         ... 0.06726728 1.         0.07161149]\n",
            " [0.         0.         0.         ... 0.         0.07161149 1.        ]]\n"
          ]
        }
      ]
    },
    {
      "cell_type": "code",
      "metadata": {
        "id": "1DR4FDMr_KXl",
        "colab": {
          "base_uri": "https://localhost:8080/"
        },
        "outputId": "e6ae2f17-5adb-40d2-c753-c0ff8a39f1e3"
      },
      "source": [
        "# Get the title of movie that user likes\n",
        "title = input(\"Enter Movie that you would like to get Recommendations for : \")\n",
        "\n",
        "# Find the Movie's id\n",
        "movie_id = df[df.Title == title]['Movie_id'].values[0]"
      ],
      "execution_count": 47,
      "outputs": [
        {
          "name": "stdout",
          "output_type": "stream",
          "text": [
            "Enter Movie that you would like to get Recommendations for : The Avengers\n"
          ]
        }
      ]
    },
    {
      "cell_type": "code",
      "metadata": {
        "id": "8r5BbpE0GGLA"
      },
      "source": [
        "# Create a list of enumerations for the similarity score [(movie_id, similarity score), (...), ....]\n",
        "scores = list(enumerate(cs[movie_id]))"
      ],
      "execution_count": 48,
      "outputs": []
    },
    {
      "cell_type": "code",
      "metadata": {
        "id": "Br-2d_ufUtZU"
      },
      "source": [
        "# Sorting the list\n",
        "sorted_scores = sorted(scores, key = lambda x : x[1], reverse = True)\n",
        "sorted_scores = sorted_scores[1:]"
      ],
      "execution_count": 49,
      "outputs": []
    },
    {
      "cell_type": "code",
      "metadata": {
        "id": "hvH6ceA-VQri",
        "colab": {
          "base_uri": "https://localhost:8080/"
        },
        "outputId": "b3cfff44-e685-4335-ec52-822281857b97"
      },
      "source": [
        "# Print the sorted scores\n",
        "print(sorted_scores)"
      ],
      "execution_count": 50,
      "outputs": [
        {
          "output_type": "stream",
          "name": "stdout",
          "text": [
            "[(94, 0.6546536707079773), (35, 0.5735393346764044), (216, 0.516185401208764), (203, 0.3638034375544995), (450, 0.3638034375544995), (279, 0.3535533905932738), (494, 0.3535533905932738), (195, 0.34412360080584264), (64, 0.3125), (315, 0.3125), (533, 0.3125), (0, 0.2946278254943948), (708, 0.2946278254943948), (761, 0.2946278254943948), (875, 0.2946278254943948), (19, 0.2581988897471611), (140, 0.2581988897471611), (173, 0.2581988897471611), (588, 0.2581988897471611), (97, 0.25), (257, 0.25), (281, 0.25), (529, 0.25), (48, 0.24253562503633297), (85, 0.24253562503633297), (362, 0.24253562503633297), (388, 0.24253562503633297), (396, 0.24253562503633297), (799, 0.24253562503633297), (253, 0.23570226039551587), (316, 0.23570226039551587), (371, 0.23570226039551587), (34, 0.22941573387056174), (177, 0.22941573387056174), (429, 0.22941573387056174), (465, 0.22941573387056174), (710, 0.22941573387056174), (500, 0.22360679774997896), (566, 0.22360679774997896), (784, 0.22360679774997896), (822, 0.22360679774997896), (408, 0.2182178902359924), (558, 0.2182178902359924), (680, 0.2182178902359924), (256, 0.2004459314343183), (370, 0.2004459314343183), (446, 0.2004459314343183), (492, 0.2004459314343183), (212, 0.19364916731037082), (227, 0.19364916731037082), (277, 0.19364916731037082), (354, 0.19364916731037082), (468, 0.19364916731037082), (472, 0.19364916731037082), (512, 0.19364916731037082), (526, 0.19364916731037082), (577, 0.19364916731037082), (687, 0.19364916731037082), (766, 0.19364916731037082), (904, 0.19364916731037082), (944, 0.19364916731037082), (12, 0.1875), (32, 0.1875), (38, 0.1875), (80, 0.1875), (102, 0.1875), (205, 0.1875), (220, 0.1875), (287, 0.1875), (323, 0.1875), (389, 0.1875), (454, 0.1875), (481, 0.1875), (528, 0.1875), (532, 0.1875), (541, 0.1875), (542, 0.1875), (552, 0.1875), (553, 0.1875), (576, 0.1875), (672, 0.1875), (673, 0.1875), (764, 0.1875), (774, 0.1875), (781, 0.1875), (924, 0.1875), (954, 0.1875), (8, 0.18190171877724973), (24, 0.18190171877724973), (112, 0.18190171877724973), (151, 0.18190171877724973), (154, 0.18190171877724973), (200, 0.18190171877724973), (214, 0.18190171877724973), (233, 0.18190171877724973), (268, 0.18190171877724973), (433, 0.18190171877724973), (690, 0.18190171877724973), (706, 0.18190171877724973), (878, 0.18190171877724973), (962, 0.18190171877724973), (67, 0.1767766952966369), (126, 0.1767766952966369), (155, 0.1767766952966369), (234, 0.1767766952966369), (243, 0.1767766952966369), (302, 0.1767766952966369), (384, 0.1767766952966369), (564, 0.1767766952966369), (948, 0.1767766952966369), (60, 0.1720618004029213), (110, 0.1720618004029213), (156, 0.1720618004029213), (162, 0.1720618004029213), (460, 0.1720618004029213), (961, 0.1720618004029213), (683, 0.16770509831248423), (739, 0.1599005372667078), (308, 0.1563858105428061), (244, 0.15309310892394865), (767, 0.15309310892394865), (176, 0.15000000000000002), (313, 0.14708710135363803), (613, 0.14708710135363803), (317, 0.1386750490563073), (769, 0.1386750490563073), (844, 0.1386750490563073), (3, 0.1336306209562122), (26, 0.1336306209562122), (71, 0.1336306209562122), (89, 0.1336306209562122), (101, 0.1336306209562122), (106, 0.1336306209562122), (183, 0.1336306209562122), (204, 0.1336306209562122), (228, 0.1336306209562122), (386, 0.1336306209562122), (497, 0.1336306209562122), (802, 0.1336306209562122), (828, 0.1336306209562122), (29, 0.12909944487358055), (36, 0.12909944487358055), (121, 0.12909944487358055), (217, 0.12909944487358055), (229, 0.12909944487358055), (239, 0.12909944487358055), (334, 0.12909944487358055), (379, 0.12909944487358055), (391, 0.12909944487358055), (398, 0.12909944487358055), (463, 0.12909944487358055), (509, 0.12909944487358055), (557, 0.12909944487358055), (559, 0.12909944487358055), (572, 0.12909944487358055), (598, 0.12909944487358055), (616, 0.12909944487358055), (663, 0.12909944487358055), (702, 0.12909944487358055), (728, 0.12909944487358055), (731, 0.12909944487358055), (753, 0.12909944487358055), (755, 0.12909944487358055), (759, 0.12909944487358055), (771, 0.12909944487358055), (884, 0.12909944487358055), (895, 0.12909944487358055), (898, 0.12909944487358055), (908, 0.12909944487358055), (943, 0.12909944487358055), (1, 0.125), (5, 0.125), (54, 0.125), (95, 0.125), (104, 0.125), (109, 0.125), (124, 0.125), (131, 0.125), (193, 0.125), (300, 0.125), (345, 0.125), (368, 0.125), (427, 0.125), (436, 0.125), (461, 0.125), (469, 0.125), (490, 0.125), (537, 0.125), (545, 0.125), (581, 0.125), (636, 0.125), (644, 0.125), (697, 0.125), (704, 0.125), (724, 0.125), (758, 0.125), (791, 0.125), (853, 0.125), (872, 0.125), (913, 0.125), (969, 0.125), (15, 0.12126781251816648), (65, 0.12126781251816648), (107, 0.12126781251816648), (246, 0.12126781251816648), (267, 0.12126781251816648), (286, 0.12126781251816648), (326, 0.12126781251816648), (491, 0.12126781251816648), (495, 0.12126781251816648), (525, 0.12126781251816648), (575, 0.12126781251816648), (626, 0.12126781251816648), (741, 0.12126781251816648), (779, 0.12126781251816648), (879, 0.12126781251816648), (916, 0.12126781251816648), (919, 0.12126781251816648), (938, 0.12126781251816648), (941, 0.12126781251816648), (967, 0.12126781251816648), (997, 0.12126781251816648), (163, 0.11785113019775793), (181, 0.11785113019775793), (325, 0.11785113019775793), (827, 0.11785113019775793), (837, 0.11785113019775793), (990, 0.11785113019775793), (50, 0.11470786693528087), (158, 0.11470786693528087), (366, 0.11470786693528087), (560, 0.11470786693528087), (604, 0.11470786693528087), (609, 0.11470786693528087), (921, 0.11470786693528087), (925, 0.11470786693528087), (45, 0.11180339887498948), (62, 0.11180339887498948), (75, 0.11180339887498948), (78, 0.11180339887498948), (252, 0.11180339887498948), (518, 0.11180339887498948), (978, 0.11180339887498948), (135, 0.1091089451179962), (209, 0.1091089451179962), (223, 0.1091089451179962), (264, 0.1091089451179962), (510, 0.1091089451179962), (578, 0.1091089451179962), (679, 0.1091089451179962), (803, 0.1091089451179962), (843, 0.1091089451179962), (935, 0.1091089451179962), (806, 0.10660035817780521), (911, 0.10660035817780521), (314, 0.10425720702853739), (614, 0.10425720702853739), (629, 0.10206207261596577), (988, 0.07216878364870323), (255, 0.06933752452815364), (284, 0.06933752452815364), (351, 0.06933752452815364), (394, 0.06933752452815364), (410, 0.06933752452815364), (421, 0.06933752452815364), (437, 0.06933752452815364), (624, 0.06933752452815364), (631, 0.06933752452815364), (659, 0.06933752452815364), (678, 0.06933752452815364), (722, 0.06933752452815364), (730, 0.06933752452815364), (740, 0.06933752452815364), (845, 0.06933752452815364), (890, 0.06933752452815364), (928, 0.06933752452815364), (932, 0.06933752452815364), (942, 0.06933752452815364), (9, 0.0668153104781061), (30, 0.0668153104781061), (47, 0.0668153104781061), (49, 0.0668153104781061), (79, 0.0668153104781061), (87, 0.0668153104781061), (91, 0.0668153104781061), (92, 0.0668153104781061), (113, 0.0668153104781061), (123, 0.0668153104781061), (134, 0.0668153104781061), (149, 0.0668153104781061), (165, 0.0668153104781061), (169, 0.0668153104781061), (174, 0.0668153104781061), (175, 0.0668153104781061), (194, 0.0668153104781061), (240, 0.0668153104781061), (248, 0.0668153104781061), (266, 0.0668153104781061), (270, 0.0668153104781061), (275, 0.0668153104781061), (285, 0.0668153104781061), (288, 0.0668153104781061), (293, 0.0668153104781061), (295, 0.0668153104781061), (312, 0.0668153104781061), (322, 0.0668153104781061), (329, 0.0668153104781061), (352, 0.0668153104781061), (372, 0.0668153104781061), (373, 0.0668153104781061), (375, 0.0668153104781061), (382, 0.0668153104781061), (390, 0.0668153104781061), (400, 0.0668153104781061), (401, 0.0668153104781061), (416, 0.0668153104781061), (420, 0.0668153104781061), (444, 0.0668153104781061), (448, 0.0668153104781061), (451, 0.0668153104781061), (452, 0.0668153104781061), (466, 0.0668153104781061), (482, 0.0668153104781061), (511, 0.0668153104781061), (517, 0.0668153104781061), (522, 0.0668153104781061), (587, 0.0668153104781061), (599, 0.0668153104781061), (623, 0.0668153104781061), (639, 0.0668153104781061), (642, 0.0668153104781061), (654, 0.0668153104781061), (675, 0.0668153104781061), (699, 0.0668153104781061), (718, 0.0668153104781061), (729, 0.0668153104781061), (763, 0.0668153104781061), (777, 0.0668153104781061), (786, 0.0668153104781061), (789, 0.0668153104781061), (834, 0.0668153104781061), (850, 0.0668153104781061), (856, 0.0668153104781061), (920, 0.0668153104781061), (946, 0.0668153104781061), (951, 0.0668153104781061), (956, 0.0668153104781061), (968, 0.0668153104781061), (987, 0.0668153104781061), (4, 0.06454972243679027), (14, 0.06454972243679027), (17, 0.06454972243679027), (21, 0.06454972243679027), (33, 0.06454972243679027), (53, 0.06454972243679027), (69, 0.06454972243679027), (84, 0.06454972243679027), (99, 0.06454972243679027), (117, 0.06454972243679027), (137, 0.06454972243679027), (147, 0.06454972243679027), (150, 0.06454972243679027), (153, 0.06454972243679027), (159, 0.06454972243679027), (161, 0.06454972243679027), (164, 0.06454972243679027), (172, 0.06454972243679027), (178, 0.06454972243679027), (179, 0.06454972243679027), (210, 0.06454972243679027), (213, 0.06454972243679027), (222, 0.06454972243679027), (226, 0.06454972243679027), (232, 0.06454972243679027), (237, 0.06454972243679027), (254, 0.06454972243679027), (298, 0.06454972243679027), (301, 0.06454972243679027), (303, 0.06454972243679027), (318, 0.06454972243679027), (319, 0.06454972243679027), (324, 0.06454972243679027), (328, 0.06454972243679027), (331, 0.06454972243679027), (340, 0.06454972243679027), (341, 0.06454972243679027), (344, 0.06454972243679027), (355, 0.06454972243679027), (369, 0.06454972243679027), (385, 0.06454972243679027), (402, 0.06454972243679027), (453, 0.06454972243679027), (456, 0.06454972243679027), (484, 0.06454972243679027), (493, 0.06454972243679027), (520, 0.06454972243679027), (521, 0.06454972243679027), (536, 0.06454972243679027), (540, 0.06454972243679027), (543, 0.06454972243679027), (580, 0.06454972243679027), (592, 0.06454972243679027), (597, 0.06454972243679027), (600, 0.06454972243679027), (618, 0.06454972243679027), (621, 0.06454972243679027), (625, 0.06454972243679027), (627, 0.06454972243679027), (649, 0.06454972243679027), (676, 0.06454972243679027), (693, 0.06454972243679027), (707, 0.06454972243679027), (717, 0.06454972243679027), (727, 0.06454972243679027), (736, 0.06454972243679027), (780, 0.06454972243679027), (782, 0.06454972243679027), (787, 0.06454972243679027), (796, 0.06454972243679027), (805, 0.06454972243679027), (810, 0.06454972243679027), (833, 0.06454972243679027), (855, 0.06454972243679027), (860, 0.06454972243679027), (880, 0.06454972243679027), (892, 0.06454972243679027), (897, 0.06454972243679027), (914, 0.06454972243679027), (923, 0.06454972243679027), (929, 0.06454972243679027), (958, 0.06454972243679027), (965, 0.06454972243679027), (983, 0.06454972243679027), (42, 0.0625), (51, 0.0625), (70, 0.0625), (116, 0.0625), (125, 0.0625), (129, 0.0625), (141, 0.0625), (142, 0.0625), (168, 0.0625), (190, 0.0625), (196, 0.0625), (198, 0.0625), (199, 0.0625), (219, 0.0625), (221, 0.0625), (249, 0.0625), (272, 0.0625), (276, 0.0625), (283, 0.0625), (294, 0.0625), (297, 0.0625), (342, 0.0625), (343, 0.0625), (358, 0.0625), (387, 0.0625), (404, 0.0625), (405, 0.0625), (406, 0.0625), (414, 0.0625), (424, 0.0625), (432, 0.0625), (475, 0.0625), (527, 0.0625), (555, 0.0625), (570, 0.0625), (585, 0.0625), (593, 0.0625), (596, 0.0625), (601, 0.0625), (603, 0.0625), (612, 0.0625), (615, 0.0625), (660, 0.0625), (661, 0.0625), (685, 0.0625), (705, 0.0625), (733, 0.0625), (737, 0.0625), (746, 0.0625), (770, 0.0625), (775, 0.0625), (794, 0.0625), (819, 0.0625), (835, 0.0625), (854, 0.0625), (858, 0.0625), (869, 0.0625), (886, 0.0625), (887, 0.0625), (901, 0.0625), (912, 0.0625), (927, 0.0625), (934, 0.0625), (936, 0.0625), (940, 0.0625), (979, 0.0625), (993, 0.0625), (37, 0.06063390625908324), (88, 0.06063390625908324), (105, 0.06063390625908324), (166, 0.06063390625908324), (197, 0.06063390625908324), (215, 0.06063390625908324), (224, 0.06063390625908324), (235, 0.06063390625908324), (238, 0.06063390625908324), (271, 0.06063390625908324), (296, 0.06063390625908324), (310, 0.06063390625908324), (336, 0.06063390625908324), (338, 0.06063390625908324), (357, 0.06063390625908324), (367, 0.06063390625908324), (496, 0.06063390625908324), (516, 0.06063390625908324), (550, 0.06063390625908324), (628, 0.06063390625908324), (657, 0.06063390625908324), (698, 0.06063390625908324), (712, 0.06063390625908324), (714, 0.06063390625908324), (732, 0.06063390625908324), (762, 0.06063390625908324), (798, 0.06063390625908324), (807, 0.06063390625908324), (852, 0.06063390625908324), (917, 0.06063390625908324), (982, 0.06063390625908324), (61, 0.05892556509887897), (82, 0.05892556509887897), (132, 0.05892556509887897), (146, 0.05892556509887897), (171, 0.05892556509887897), (290, 0.05892556509887897), (395, 0.05892556509887897), (423, 0.05892556509887897), (438, 0.05892556509887897), (440, 0.05892556509887897), (447, 0.05892556509887897), (535, 0.05892556509887897), (556, 0.05892556509887897), (568, 0.05892556509887897), (617, 0.05892556509887897), (640, 0.05892556509887897), (674, 0.05892556509887897), (696, 0.05892556509887897), (773, 0.05892556509887897), (821, 0.05892556509887897), (831, 0.05892556509887897), (864, 0.05892556509887897), (867, 0.05892556509887897), (868, 0.05892556509887897), (871, 0.05892556509887897), (894, 0.05892556509887897), (903, 0.05892556509887897), (918, 0.05892556509887897), (939, 0.05892556509887897), (43, 0.057353933467640436), (86, 0.057353933467640436), (306, 0.057353933467640436), (425, 0.057353933467640436), (434, 0.057353933467640436), (772, 0.057353933467640436), (809, 0.057353933467640436), (893, 0.057353933467640436), (952, 0.057353933467640436), (114, 0.05590169943749474), (118, 0.05590169943749474), (418, 0.05590169943749474), (422, 0.05590169943749474), (426, 0.05590169943749474), (473, 0.05590169943749474), (476, 0.05590169943749474), (546, 0.05590169943749474), (953, 0.05590169943749474), (260, 0.0545544725589981), (327, 0.053300179088902604), (650, 0.053300179088902604), (862, 0.053300179088902604), (950, 0.053300179088902604), (259, 0.05212860351426869), (619, 0.05212860351426869), (632, 0.05212860351426869), (380, 0.051031036307982884), (745, 0.051031036307982884), (2, 0.0), (6, 0.0), (7, 0.0), (10, 0.0), (11, 0.0), (13, 0.0), (16, 0.0), (18, 0.0), (20, 0.0), (22, 0.0), (23, 0.0), (25, 0.0), (27, 0.0), (28, 0.0), (31, 0.0), (39, 0.0), (40, 0.0), (41, 0.0), (44, 0.0), (46, 0.0), (52, 0.0), (55, 0.0), (56, 0.0), (57, 0.0), (58, 0.0), (59, 0.0), (63, 0.0), (66, 0.0), (68, 0.0), (72, 0.0), (73, 0.0), (74, 0.0), (77, 0.0), (81, 0.0), (83, 0.0), (90, 0.0), (93, 0.0), (96, 0.0), (98, 0.0), (100, 0.0), (103, 0.0), (108, 0.0), (111, 0.0), (115, 0.0), (119, 0.0), (120, 0.0), (122, 0.0), (127, 0.0), (128, 0.0), (130, 0.0), (133, 0.0), (136, 0.0), (138, 0.0), (139, 0.0), (143, 0.0), (144, 0.0), (145, 0.0), (148, 0.0), (152, 0.0), (157, 0.0), (160, 0.0), (167, 0.0), (170, 0.0), (180, 0.0), (182, 0.0), (184, 0.0), (185, 0.0), (186, 0.0), (187, 0.0), (188, 0.0), (189, 0.0), (191, 0.0), (192, 0.0), (201, 0.0), (202, 0.0), (206, 0.0), (207, 0.0), (208, 0.0), (211, 0.0), (218, 0.0), (225, 0.0), (230, 0.0), (231, 0.0), (236, 0.0), (241, 0.0), (242, 0.0), (245, 0.0), (247, 0.0), (250, 0.0), (251, 0.0), (258, 0.0), (261, 0.0), (262, 0.0), (263, 0.0), (265, 0.0), (269, 0.0), (273, 0.0), (274, 0.0), (278, 0.0), (280, 0.0), (282, 0.0), (289, 0.0), (291, 0.0), (292, 0.0), (299, 0.0), (304, 0.0), (305, 0.0), (307, 0.0), (309, 0.0), (311, 0.0), (320, 0.0), (321, 0.0), (330, 0.0), (332, 0.0), (333, 0.0), (335, 0.0), (337, 0.0), (339, 0.0), (346, 0.0), (347, 0.0), (348, 0.0), (349, 0.0), (350, 0.0), (353, 0.0), (356, 0.0), (359, 0.0), (360, 0.0), (361, 0.0), (363, 0.0), (364, 0.0), (365, 0.0), (374, 0.0), (376, 0.0), (377, 0.0), (378, 0.0), (381, 0.0), (383, 0.0), (392, 0.0), (393, 0.0), (397, 0.0), (399, 0.0), (403, 0.0), (407, 0.0), (409, 0.0), (411, 0.0), (412, 0.0), (413, 0.0), (415, 0.0), (417, 0.0), (419, 0.0), (428, 0.0), (430, 0.0), (431, 0.0), (435, 0.0), (439, 0.0), (441, 0.0), (442, 0.0), (443, 0.0), (445, 0.0), (449, 0.0), (455, 0.0), (457, 0.0), (458, 0.0), (459, 0.0), (462, 0.0), (464, 0.0), (467, 0.0), (470, 0.0), (471, 0.0), (474, 0.0), (477, 0.0), (478, 0.0), (479, 0.0), (480, 0.0), (483, 0.0), (485, 0.0), (486, 0.0), (487, 0.0), (488, 0.0), (489, 0.0), (498, 0.0), (499, 0.0), (501, 0.0), (502, 0.0), (503, 0.0), (504, 0.0), (505, 0.0), (506, 0.0), (507, 0.0), (508, 0.0), (513, 0.0), (514, 0.0), (515, 0.0), (519, 0.0), (523, 0.0), (524, 0.0), (530, 0.0), (531, 0.0), (534, 0.0), (538, 0.0), (539, 0.0), (544, 0.0), (547, 0.0), (548, 0.0), (549, 0.0), (551, 0.0), (554, 0.0), (561, 0.0), (562, 0.0), (563, 0.0), (565, 0.0), (567, 0.0), (569, 0.0), (571, 0.0), (573, 0.0), (574, 0.0), (579, 0.0), (582, 0.0), (583, 0.0), (584, 0.0), (586, 0.0), (589, 0.0), (590, 0.0), (591, 0.0), (594, 0.0), (595, 0.0), (602, 0.0), (605, 0.0), (606, 0.0), (607, 0.0), (608, 0.0), (610, 0.0), (611, 0.0), (620, 0.0), (622, 0.0), (630, 0.0), (633, 0.0), (634, 0.0), (635, 0.0), (637, 0.0), (638, 0.0), (641, 0.0), (643, 0.0), (645, 0.0), (646, 0.0), (647, 0.0), (648, 0.0), (651, 0.0), (652, 0.0), (653, 0.0), (655, 0.0), (656, 0.0), (658, 0.0), (662, 0.0), (664, 0.0), (665, 0.0), (666, 0.0), (667, 0.0), (668, 0.0), (669, 0.0), (670, 0.0), (671, 0.0), (677, 0.0), (681, 0.0), (682, 0.0), (684, 0.0), (686, 0.0), (688, 0.0), (689, 0.0), (691, 0.0), (692, 0.0), (694, 0.0), (695, 0.0), (700, 0.0), (701, 0.0), (703, 0.0), (709, 0.0), (711, 0.0), (713, 0.0), (715, 0.0), (716, 0.0), (719, 0.0), (720, 0.0), (721, 0.0), (723, 0.0), (725, 0.0), (726, 0.0), (734, 0.0), (735, 0.0), (738, 0.0), (742, 0.0), (743, 0.0), (744, 0.0), (747, 0.0), (748, 0.0), (749, 0.0), (750, 0.0), (751, 0.0), (752, 0.0), (754, 0.0), (756, 0.0), (757, 0.0), (760, 0.0), (765, 0.0), (768, 0.0), (776, 0.0), (778, 0.0), (783, 0.0), (785, 0.0), (788, 0.0), (790, 0.0), (792, 0.0), (793, 0.0), (795, 0.0), (797, 0.0), (800, 0.0), (801, 0.0), (804, 0.0), (808, 0.0), (811, 0.0), (812, 0.0), (813, 0.0), (814, 0.0), (815, 0.0), (816, 0.0), (817, 0.0), (818, 0.0), (820, 0.0), (823, 0.0), (824, 0.0), (825, 0.0), (826, 0.0), (829, 0.0), (830, 0.0), (832, 0.0), (836, 0.0), (838, 0.0), (839, 0.0), (840, 0.0), (841, 0.0), (842, 0.0), (846, 0.0), (847, 0.0), (848, 0.0), (849, 0.0), (851, 0.0), (857, 0.0), (859, 0.0), (861, 0.0), (863, 0.0), (865, 0.0), (866, 0.0), (870, 0.0), (873, 0.0), (874, 0.0), (876, 0.0), (877, 0.0), (881, 0.0), (882, 0.0), (883, 0.0), (885, 0.0), (888, 0.0), (889, 0.0), (891, 0.0), (896, 0.0), (899, 0.0), (900, 0.0), (902, 0.0), (905, 0.0), (906, 0.0), (907, 0.0), (909, 0.0), (910, 0.0), (915, 0.0), (922, 0.0), (926, 0.0), (930, 0.0), (931, 0.0), (933, 0.0), (937, 0.0), (945, 0.0), (947, 0.0), (949, 0.0), (955, 0.0), (957, 0.0), (959, 0.0), (960, 0.0), (963, 0.0), (964, 0.0), (966, 0.0), (970, 0.0), (971, 0.0), (972, 0.0), (973, 0.0), (974, 0.0), (975, 0.0), (976, 0.0), (977, 0.0), (980, 0.0), (981, 0.0), (984, 0.0), (985, 0.0), (986, 0.0), (989, 0.0), (991, 0.0), (992, 0.0), (994, 0.0), (995, 0.0), (996, 0.0), (998, 0.0), (999, 0.0)]\n"
          ]
        }
      ]
    },
    {
      "cell_type": "code",
      "metadata": {
        "id": "SoxEtHcNVVRl",
        "colab": {
          "base_uri": "https://localhost:8080/"
        },
        "outputId": "a283d508-3505-403a-8c7c-000b2e937d38"
      },
      "source": [
        "# Printing the top 5 similar movies\n",
        "j = 0\n",
        "print(f'The 5 most recomended movies to {title} are :\\n')\n",
        "for item in sorted_scores:\n",
        "  movie_title = df[df.Movie_id == item[0]]['Title'].values[0]\n",
        "  print(f'{j+1}. {movie_title}')\n",
        "  j = j+1\n",
        "  if j>4:\n",
        "    break"
      ],
      "execution_count": 51,
      "outputs": [
        {
          "output_type": "stream",
          "name": "stdout",
          "text": [
            "The 5 most recomended movies to The Avengers are :\n",
            "\n",
            "1. Avengers: Age of Ultron\n",
            "2. Captain America: Civil War\n",
            "3. Captain America: The Winter Soldier\n",
            "4. Iron Man\n",
            "5. Iron Man 2\n"
          ]
        }
      ]
    },
    {
      "cell_type": "code",
      "metadata": {
        "id": "Gs-mB_6urPEE"
      },
      "source": [
        ""
      ],
      "execution_count": null,
      "outputs": []
    }
  ]
}